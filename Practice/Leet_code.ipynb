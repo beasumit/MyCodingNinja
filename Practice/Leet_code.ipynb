{
 "cells": [
  {
   "cell_type": "markdown",
   "metadata": {},
   "source": [
    "Fibonaci number Leet code"
   ]
  },
  {
   "cell_type": "code",
   "execution_count": 4,
   "metadata": {},
   "outputs": [],
   "source": [
    "class Solution:\n",
    "    def fib(self,n):\n",
    "        if n == 0 : return 0\n",
    "        if n == 1 : return 1\n",
    "        prev1, prev2 = 1,0\n",
    "        output = 0\n",
    "        \n",
    "        for i in range(2,n+1):\n",
    "            output = prev1+prev2\n",
    "            prev2 = prev1\n",
    "            prev1 = output\n",
    "        \n",
    "        return output"
   ]
  },
  {
   "cell_type": "markdown",
   "metadata": {},
   "source": [
    "Climbing Stairs"
   ]
  },
  {
   "cell_type": "code",
   "execution_count": 2,
   "metadata": {},
   "outputs": [],
   "source": [
    "class Solution:\n",
    "    def stairCase(self , n):\n",
    "        step = {1:1, 2:2, 3:3}\n",
    "        for i in range(4, n+1):\n",
    "            step[i] = step[n-1] + step[n-2]\n",
    "        return (step[n])"
   ]
  }
 ],
 "metadata": {
  "kernelspec": {
   "display_name": "Python 3",
   "language": "python",
   "name": "python3"
  },
  "language_info": {
   "codemirror_mode": {
    "name": "ipython",
    "version": 3
   },
   "file_extension": ".py",
   "mimetype": "text/x-python",
   "name": "python",
   "nbconvert_exporter": "python",
   "pygments_lexer": "ipython3",
   "version": "3.10.2"
  }
 },
 "nbformat": 4,
 "nbformat_minor": 2
}
