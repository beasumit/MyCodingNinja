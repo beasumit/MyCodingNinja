{
 "cells": [
  {
   "cell_type": "code",
   "execution_count": 1,
   "metadata": {},
   "outputs": [],
   "source": [
    "import PyPDF2\n",
    "\n",
    "pdfiles = [\"1.pdf\",\"2.pdf\"]\n",
    "merger = PyPDF2.PdfMerger()\n",
    "\n",
    "for filename in pdfiles:\n",
    "    pdfFile = open(filename,'rb')\n",
    "    pdfReader = PyPDF2.PdfReader(pdfFile)\n",
    "    merger.append(pdfReader)\n",
    "pdfFile.close()\n",
    "merger.write(\"merged.pdf\")"
   ]
  }
 ],
 "metadata": {
  "kernelspec": {
   "display_name": "Python 3",
   "language": "python",
   "name": "python3"
  },
  "language_info": {
   "codemirror_mode": {
    "name": "ipython",
    "version": 3
   },
   "file_extension": ".py",
   "mimetype": "text/x-python",
   "name": "python",
   "nbconvert_exporter": "python",
   "pygments_lexer": "ipython3",
   "version": "3.10.2"
  },
  "orig_nbformat": 4
 },
 "nbformat": 4,
 "nbformat_minor": 2
}
