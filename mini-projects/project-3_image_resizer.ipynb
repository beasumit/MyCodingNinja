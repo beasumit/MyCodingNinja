{
 "cells": [
  {
   "cell_type": "code",
   "execution_count": 2,
   "metadata": {},
   "outputs": [
    {
     "data": {
      "text/plain": [
       "-1"
      ]
     },
     "execution_count": 2,
     "metadata": {},
     "output_type": "execute_result"
    }
   ],
   "source": [
    "import cv2\n",
    "\n",
    "image = cv2.imread(\"VGD-S5-LAST-STAND-ANNOUNCE-TOUT.jpg\",cv2.IMREAD_UNCHANGED)\n",
    "\n",
    "cv2.imshow(\"OUTPUT\",image)\n",
    "scale_percent = 50\n",
    "\n",
    "#calculate the 50 percent of original dimensions\n",
    "new_width = int(image.shape[1] * scale_percent / 100)\n",
    "new_height = int(image.shape[0] * scale_percent / 100)\n",
    "\n",
    "# resize image\n",
    "output = cv2.resize(image, (new_width, new_height))\n",
    "\n",
    "cv2.imwrite('new_image.jpg',output) \n",
    "cv2.waitKey(0)\n"
   ]
  }
 ],
 "metadata": {
  "kernelspec": {
   "display_name": "Python 3",
   "language": "python",
   "name": "python3"
  },
  "language_info": {
   "codemirror_mode": {
    "name": "ipython",
    "version": 3
   },
   "file_extension": ".py",
   "mimetype": "text/x-python",
   "name": "python",
   "nbconvert_exporter": "python",
   "pygments_lexer": "ipython3",
   "version": "3.10.2"
  },
  "orig_nbformat": 4
 },
 "nbformat": 4,
 "nbformat_minor": 2
}
