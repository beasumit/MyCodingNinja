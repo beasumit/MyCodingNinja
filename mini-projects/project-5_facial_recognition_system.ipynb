{
 "cells": [
  {
   "cell_type": "code",
   "execution_count": null,
   "metadata": {},
   "outputs": [],
   "source": [
    "import face_recognition\n",
    "import cmake\n",
    "import cv2\n",
    "import numpy as np\n",
    "from datetime import datetime\n",
    "\n",
    "\n",
    "video_capture = cv2.VideoCapture(0)\n",
    "\n",
    "#adding known faces for databases\n",
    "\n",
    "sumit_image = face_recognition.load_image_file(\"Faces/sumit.jpg\")\n",
    "sumit_encoding = face_recognition.face_encodings(\"sumit_image\")[0]\n",
    "amit_image = face_recognition.load_image_file(\"Faces,amit.jpg\")\n",
    "amit_encoding = face_recognition.face_encodings(\"amit_image\")[0]\n",
    "\n",
    "\n",
    "known_face_encoding = [sumit_encoding,amit_encoding]\n",
    "known_face_name = [\"sumit\", \"amit\"]\n",
    " \n",
    "# list of expected students\n",
    "\n",
    "students = known_face_name.copy()\n",
    "\n",
    "face_locations = []\n",
    "face_encodings = []\n",
    "\n",
    "# get the current date and time\n",
    "\n",
    "now = datetime.now()\n",
    "current_date = now.strftime(\"%Y-%m-%d\")\n",
    "\n",
    "f = open(f\"{current_date}.csv\",\"w+\",newline = \" \")\n",
    "lnwriter = csv.writer(f)\n",
    "\n",
    "\n",
    "while True:\n",
    "    _, frame = video_capture.read()\n",
    "    small_frame = cv2.resize(frame, (0,0),fx=0.25, fy=0.25)\n",
    "    rgb_small_frame = cv2.cvtColor(small_frame,cv2.COLOR_BGR2RGB)\n",
    "\n",
    "    # recognise face\n",
    "\n",
    "    face_locations = face_recognition.face_locations(rgb_small_frame)\n",
    "    face_encodings = face_recognition.face_encodings(rgb_small_frame,face_locations)\n",
    "\n",
    "    for face_encoding in face_encodings:\n",
    "        "
   ]
  }
 ],
 "metadata": {
  "language_info": {
   "name": "python"
  },
  "orig_nbformat": 4
 },
 "nbformat": 4,
 "nbformat_minor": 2
}
