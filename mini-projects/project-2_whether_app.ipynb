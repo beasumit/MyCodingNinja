{
 "cells": [
  {
   "cell_type": "code",
   "execution_count": 15,
   "metadata": {},
   "outputs": [
    {
     "name": "stdout",
     "output_type": "stream",
     "text": [
      "The temparteure in new delhi is 33.0\n"
     ]
    }
   ],
   "source": [
    "import requests\n",
    "import json\n",
    "import os\n",
    "city = input(\"please enter the city name to get its current whether :\")\n",
    "\n",
    "url = f\"http://api.weatherapi.com/v1/current.json?key=06f4422b76f84922a0970005232009&q={city}\"\n",
    "\n",
    "r = requests.get(url)\n",
    "wdic = json.loads(r.text)\n",
    "w= wdic[\"current\"][\"temp_c\"]\n",
    "print(f\"The temparteure in {city} is {w}\")"
   ]
  }
 ],
 "metadata": {
  "kernelspec": {
   "display_name": "Python 3",
   "language": "python",
   "name": "python3"
  },
  "language_info": {
   "codemirror_mode": {
    "name": "ipython",
    "version": 3
   },
   "file_extension": ".py",
   "mimetype": "text/x-python",
   "name": "python",
   "nbconvert_exporter": "python",
   "pygments_lexer": "ipython3",
   "version": "3.10.2"
  },
  "orig_nbformat": 4
 },
 "nbformat": 4,
 "nbformat_minor": 2
}
