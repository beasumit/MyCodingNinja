{
 "cells": [
  {
   "cell_type": "markdown",
   "metadata": {},
   "source": [
    "sqlite commands"
   ]
  },
  {
   "cell_type": "code",
   "execution_count": 3,
   "metadata": {},
   "outputs": [
    {
     "name": "stdout",
     "output_type": "stream",
     "text": [
      "<sqlite3.Connection object at 0x000001FDF5CFF740>\n"
     ]
    }
   ],
   "source": [
    "import sqlite3\n",
    "db = sqlite3.connect(\"file1.sqlite\")\n",
    "print(db)"
   ]
  },
  {
   "cell_type": "code",
   "execution_count": 1,
   "metadata": {},
   "outputs": [
    {
     "ename": "NameError",
     "evalue": "name 'sqlite3' is not defined",
     "output_type": "error",
     "traceback": [
      "\u001b[1;31m---------------------------------------------------------------------------\u001b[0m",
      "\u001b[1;31mNameError\u001b[0m                                 Traceback (most recent call last)",
      "\u001b[1;32md:\\PROGGRAMING\\codes\\python pycharm\\demo\\MyCodingNinja\\sqlite\\sql.ipynb Cell 3\u001b[0m line \u001b[0;36m1\n\u001b[1;32m----> <a href='vscode-notebook-cell:/d%3A/PROGGRAMING/codes/python%20pycharm/demo/MyCodingNinja/sqlite/sql.ipynb#W2sZmlsZQ%3D%3D?line=0'>1</a>\u001b[0m db1 \u001b[39m=\u001b[39m sqlite3\u001b[39m.\u001b[39mconnect(\u001b[39m\"\u001b[39m\u001b[39mschool.sqlite\u001b[39m\u001b[39m\"\u001b[39m)\n\u001b[0;32m      <a href='vscode-notebook-cell:/d%3A/PROGGRAMING/codes/python%20pycharm/demo/MyCodingNinja/sqlite/sql.ipynb#W2sZmlsZQ%3D%3D?line=1'>2</a>\u001b[0m \u001b[39mprint\u001b[39m(db1)\n\u001b[0;32m      <a href='vscode-notebook-cell:/d%3A/PROGGRAMING/codes/python%20pycharm/demo/MyCodingNinja/sqlite/sql.ipynb#W2sZmlsZQ%3D%3D?line=3'>4</a>\u001b[0m cur \u001b[39m=\u001b[39m db1\u001b[39m.\u001b[39mcursor()\n",
      "\u001b[1;31mNameError\u001b[0m: name 'sqlite3' is not defined"
     ]
    }
   ],
   "source": [
    "db1 = sqlite3.connect(\"school.sqlite\")\n",
    "print(db1)\n",
    "\n",
    "cur = db1.cursor()\n",
    "sql_query = 'create table student (Roll_Number int primary key, name text, age int)'\n",
    "cur.execute(sql_query)\n"
   ]
  },
  {
   "cell_type": "code",
   "execution_count": 15,
   "metadata": {},
   "outputs": [],
   "source": [
    "import sqlite3\n",
    "db1 = sqlite3.connect(\"school.sqlite\")\n",
    "cur = db1.cursor()\n",
    "cur.execute('insert into student values(006,\"null\",0)')\n",
    "db1.commit()\n",
    "db1.close()"
   ]
  },
  {
   "cell_type": "code",
   "execution_count": 17,
   "metadata": {},
   "outputs": [
    {
     "ename": "ProgrammingError",
     "evalue": "Cannot operate on a closed database.",
     "output_type": "error",
     "traceback": [
      "\u001b[1;31m---------------------------------------------------------------------------\u001b[0m",
      "\u001b[1;31mProgrammingError\u001b[0m                          Traceback (most recent call last)",
      "\u001b[1;32md:\\PROGGRAMING\\codes\\python pycharm\\demo\\MyCodingNinja\\sqlite\\sql.ipynb Cell 5\u001b[0m line \u001b[0;36m4\n\u001b[0;32m      <a href='vscode-notebook-cell:/d%3A/PROGGRAMING/codes/python%20pycharm/demo/MyCodingNinja/sqlite/sql.ipynb#W5sZmlsZQ%3D%3D?line=1'>2</a>\u001b[0m db  \u001b[39m=\u001b[39m sqlite3\u001b[39m.\u001b[39mconnect(\u001b[39m\"\u001b[39m\u001b[39mEmployee_detail.sqlite\u001b[39m\u001b[39m\"\u001b[39m)\n\u001b[0;32m      <a href='vscode-notebook-cell:/d%3A/PROGGRAMING/codes/python%20pycharm/demo/MyCodingNinja/sqlite/sql.ipynb#W5sZmlsZQ%3D%3D?line=2'>3</a>\u001b[0m cus \u001b[39m=\u001b[39m db\u001b[39m.\u001b[39mcursor()\n\u001b[1;32m----> <a href='vscode-notebook-cell:/d%3A/PROGGRAMING/codes/python%20pycharm/demo/MyCodingNinja/sqlite/sql.ipynb#W5sZmlsZQ%3D%3D?line=3'>4</a>\u001b[0m cur\u001b[39m.\u001b[39;49mexecute(\u001b[39m'\u001b[39;49m\u001b[39mcreate table Employee_detail(employee_id int primary key, name varchar(100), age int,department varchar (100),salary int)\u001b[39;49m\u001b[39m'\u001b[39;49m)\n\u001b[0;32m      <a href='vscode-notebook-cell:/d%3A/PROGGRAMING/codes/python%20pycharm/demo/MyCodingNinja/sqlite/sql.ipynb#W5sZmlsZQ%3D%3D?line=4'>5</a>\u001b[0m db\u001b[39m.\u001b[39mcommit()\n\u001b[0;32m      <a href='vscode-notebook-cell:/d%3A/PROGGRAMING/codes/python%20pycharm/demo/MyCodingNinja/sqlite/sql.ipynb#W5sZmlsZQ%3D%3D?line=5'>6</a>\u001b[0m db\u001b[39m.\u001b[39mclose()\n",
      "\u001b[1;31mProgrammingError\u001b[0m: Cannot operate on a closed database."
     ]
    }
   ],
   "source": [
    "import sqlite3\n",
    "db  = sqlite3.connect(\"Employee_detail.sqlite\")\n",
    "cus = db.cursor()\n",
    "cur.execute('create table Employee_detail(employee_id int primary key, name varchar(100), age int,department varchar (100),salary int)')\n",
    "db.commit()\n",
    "db.close()"
   ]
  }
 ],
 "metadata": {
  "kernelspec": {
   "display_name": "Python 3",
   "language": "python",
   "name": "python3"
  },
  "language_info": {
   "codemirror_mode": {
    "name": "ipython",
    "version": 3
   },
   "file_extension": ".py",
   "mimetype": "text/x-python",
   "name": "python",
   "nbconvert_exporter": "python",
   "pygments_lexer": "ipython3",
   "version": "3.10.2"
  },
  "orig_nbformat": 4
 },
 "nbformat": 4,
 "nbformat_minor": 2
}
