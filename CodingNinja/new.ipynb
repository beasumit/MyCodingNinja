{
 "cells": [
  {
   "cell_type": "markdown",
   "metadata": {},
   "source": [
    "Basic If statement"
   ]
  },
  {
   "cell_type": "code",
   "execution_count": 5,
   "metadata": {},
   "outputs": [
    {
     "name": "stdout",
     "output_type": "stream",
     "text": [
      "True\n",
      "Thank you\n"
     ]
    }
   ],
   "source": [
    "age = 27\n",
    "if age == 27:\n",
    "    print(True)\n",
    "else:\n",
    "    print(False)\n",
    "print(\"Thank you\")"
   ]
  },
  {
   "cell_type": "markdown",
   "metadata": {},
   "source": [
    "Calculator"
   ]
  },
  {
   "cell_type": "code",
   "execution_count": 8,
   "metadata": {},
   "outputs": [
    {
     "name": "stdout",
     "output_type": "stream",
     "text": [
      "Wrong input\n",
      ":)\n"
     ]
    }
   ],
   "source": [
    "first = int(input(\"Enter the number: \"))\n",
    "Second =int(input(\"enter the Number: \"))\n",
    "operator = input(\"please enter the operator Symbol for operation as (+,-,*,/,%):\")\n",
    "\n",
    "if operator == \"+\":\n",
    "    print(first + Second)\n",
    "elif operator == \"-\":\n",
    "    print(first - Second)\n",
    "elif operator == \"*\":\n",
    "    print(first * Second)\n",
    "elif operator == \"/\":\n",
    "    print(first / Second)\n",
    "elif operator == \"%\":\n",
    "    print(first % Second)\n",
    "else:\n",
    "    print(\"Wrong input\")\n",
    "\n",
    "print(\":)\")"
   ]
  }
 ],
 "metadata": {
  "kernelspec": {
   "display_name": "Python 3",
   "language": "python",
   "name": "python3"
  },
  "language_info": {
   "codemirror_mode": {
    "name": "ipython",
    "version": 3
   },
   "file_extension": ".py",
   "mimetype": "text/x-python",
   "name": "python",
   "nbconvert_exporter": "python",
   "pygments_lexer": "ipython3",
   "version": "3.10.2"
  },
  "orig_nbformat": 4
 },
 "nbformat": 4,
 "nbformat_minor": 2
}
