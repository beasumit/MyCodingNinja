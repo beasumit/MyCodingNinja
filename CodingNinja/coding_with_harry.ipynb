{
 "cells": [
  {
   "cell_type": "markdown",
   "metadata": {},
   "source": [
    "This file is for notes from codding with harry on python 3hr lecture."
   ]
  },
  {
   "cell_type": "markdown",
   "metadata": {},
   "source": [
    "match case "
   ]
  },
  {
   "cell_type": "code",
   "execution_count": 3,
   "metadata": {},
   "outputs": [
    {
     "name": "stdout",
     "output_type": "stream",
     "text": [
      "NO CASE\n"
     ]
    }
   ],
   "source": [
    "a = int(input(\"enter the number: \"))\n",
    "\n",
    "match a:\n",
    "    case 1:\n",
    "        print(\"case: 1\")\n",
    "    case 2:\n",
    "        print(\"case: 2\")\n",
    "    case 3:\n",
    "        print(\"case: 3\")\n",
    "    case 4:\n",
    "        print(\"case: 4\")\n",
    "    case _:\n",
    "        print(\"NO CASE\")"
   ]
  },
  {
   "cell_type": "markdown",
   "metadata": {},
   "source": [
    "f string"
   ]
  },
  {
   "cell_type": "code",
   "execution_count": 6,
   "metadata": {},
   "outputs": [
    {
     "name": "stdout",
     "output_type": "stream",
     "text": [
      "my name is sumit and i am 26 old\n"
     ]
    }
   ],
   "source": [
    "def name(name,age):\n",
    "    name1 = f\"my name is {name} and i am {age} old\"\n",
    "    print(name1)\n",
    "\n",
    "name(\"sumit\",26)"
   ]
  },
  {
   "cell_type": "markdown",
   "metadata": {},
   "source": [
    "Try and except"
   ]
  },
  {
   "cell_type": "code",
   "execution_count": 8,
   "metadata": {},
   "outputs": [
    {
     "name": "stdout",
     "output_type": "stream",
     "text": [
      "This input is invalid as it is not a int value\n"
     ]
    }
   ],
   "source": [
    "try:\n",
    "    num = int(input(\"enter the number you like: \"))\n",
    "    print(num + 10)\n",
    "except:\n",
    "    print(\"This input is invalid as it is not a int value\")"
   ]
  },
  {
   "cell_type": "markdown",
   "metadata": {},
   "source": [
    "Going indepth with error type"
   ]
  },
  {
   "cell_type": "code",
   "execution_count": 11,
   "metadata": {},
   "outputs": [
    {
     "name": "stdout",
     "output_type": "stream",
     "text": [
      "The value is invalid as invalid literal for int() with base 10: 'sumit'\n"
     ]
    }
   ],
   "source": [
    "try:\n",
    "    num = int(input(\"enter the number: \"))\n",
    "    print(num + 2)\n",
    "except Exception as e:\n",
    "    print(\"The value is invalid as\",e)"
   ]
  },
  {
   "cell_type": "markdown",
   "metadata": {},
   "source": [
    "working with files using context manager"
   ]
  },
  {
   "cell_type": "code",
   "execution_count": 13,
   "metadata": {},
   "outputs": [],
   "source": [
    "s = \"My name is Sumit Kumar\"\n",
    "\n",
    "with open(\"text.txt\" , \"w\") as f:\n",
    "    f.write(s)"
   ]
  },
  {
   "cell_type": "markdown",
   "metadata": {},
   "source": [
    "Reading from the File"
   ]
  },
  {
   "cell_type": "code",
   "execution_count": 18,
   "metadata": {},
   "outputs": [
    {
     "name": "stdout",
     "output_type": "stream",
     "text": [
      "My name is Sumit KumarHe is working with pythons codes to understand it He is working with pythons codes to understand it\n"
     ]
    }
   ],
   "source": [
    "with open(\"text.txt\" ,\"r\") as f:\n",
    "    s=f.read()\n",
    "    print(s)"
   ]
  },
  {
   "cell_type": "markdown",
   "metadata": {},
   "source": [
    "Appending input without deleting previous data."
   ]
  },
  {
   "cell_type": "code",
   "execution_count": 17,
   "metadata": {},
   "outputs": [],
   "source": [
    "with open(\"text.txt\", \"a\") as f:\n",
    "    s = f.write(\" He is working with pythons codes to understand it\")"
   ]
  },
  {
   "cell_type": "markdown",
   "metadata": {},
   "source": [
    "oops\n"
   ]
  },
  {
   "cell_type": "code",
   "execution_count": 9,
   "metadata": {},
   "outputs": [
    {
     "name": "stdout",
     "output_type": "stream",
     "text": [
      "The salary for sumit is 100000 and his age is 27\n",
      "None\n"
     ]
    }
   ],
   "source": [
    "class Employee:\n",
    "    def __init__(self,name,age,salary):\n",
    "        self.name = name\n",
    "        self.age = age\n",
    "        self.salary = salary\n",
    "\n",
    "    def hey(self):\n",
    "        print(f\"The salary for {self.name} is {self.salary} and his age is {self.age}\")\n",
    "\n",
    "job = Employee(\"sumit\",27,100000)\n",
    "print(job.hey())"
   ]
  }
 ],
 "metadata": {
  "kernelspec": {
   "display_name": "Python 3",
   "language": "python",
   "name": "python3"
  },
  "language_info": {
   "codemirror_mode": {
    "name": "ipython",
    "version": 3
   },
   "file_extension": ".py",
   "mimetype": "text/x-python",
   "name": "python",
   "nbconvert_exporter": "python",
   "pygments_lexer": "ipython3",
   "version": "3.10.2"
  },
  "orig_nbformat": 4
 },
 "nbformat": 4,
 "nbformat_minor": 2
}
